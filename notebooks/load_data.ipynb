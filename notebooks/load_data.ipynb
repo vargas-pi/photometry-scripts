{
 "cells": [
  {
   "cell_type": "code",
   "execution_count": 6,
   "metadata": {},
   "outputs": [],
   "source": [
    "import sys\n",
    "sys.path.append('../')\n",
    "from analysis_pipeline import *"
   ]
  },
  {
   "cell_type": "code",
   "execution_count": null,
   "metadata": {},
   "outputs": [],
   "source": [
    "#setting parameters for the analysis\n",
    "t_endrec = 1800 # length of the recording from the stimulus in seconds\n",
    "norm_method = norm_to_median_pre_stim # alternative: norm_to_405\n",
    "\n",
    "# optional arguments\n",
    "t_prestim = 300 # length of baseline in seconds\n",
    "ex = 4 #exclusion criteria\n",
    "file_format = 'npy' # save file format\n",
    "file_loc = '../analyses' # path of folder to save the analysis to\n",
    "fname = None # name of the npy file to save the analysis to (without the file extension)\n",
    "\n",
    "a = analysis(t_endrec,norm_method, t_prestim=t_prestim, ex=ex,file_format=file_format,file_loc=file_loc,fname=fname)"
   ]
  },
  {
   "cell_type": "code",
   "execution_count": 7,
   "metadata": {},
   "outputs": [
    {
     "name": "stdout",
     "output_type": "stream",
     "text": [
      "recomputing...\n",
      "successful\n"
     ]
    }
   ],
   "source": [
    "#use this cell to instead load an existing analyisis\n",
    "fpath = '/Users/nathanielnyema/Downloads/analysis_ip_saline_8_id_ala253_ala257_ala255_ala276_ala283_ala290_adm352_ala330.npy'\n",
    "a = load_analysis(fpath)"
   ]
  },
  {
   "cell_type": "code",
   "execution_count": 9,
   "metadata": {},
   "outputs": [],
   "source": [
    "# to update parameters of the analysis simply type a.{property_name} = new_value\n",
    "# example\n",
    "# a.fname = new_file_name"
   ]
  },
  {
   "cell_type": "code",
   "execution_count": null,
   "metadata": {},
   "outputs": [],
   "source": [
    "# use this cell to add npy files to the analysis. rerun this cell for as many files as you'd like to add\n",
    "fpath=''\n",
    "\n",
    "# these are dictionaries for specifying stim times and conditions for each mouse\n",
    "# make sure all the mice in the specified file are listed. \n",
    "# a stim time must be specified so unless this was already done be sure to at least fill out the tsims dict\n",
    "# condition specification is optional\n",
    "\n",
    "#example:\n",
    "#t_stims={'mouse1':1200, 'mouse2': 1250}\n",
    "#conds={'mouse1': 'fructose', 'mouse2': 'glucose'}\n",
    "\n",
    "conds={}\n",
    "tstims={} #dict\n",
    "\n",
    "\n",
    "#double check that we're ok with what's been entered\n",
    "ans=input('are you happy with these settings? [y/n] ')\n",
    "if ans=='y':\n",
    "    conds=None if len(conds)==0 else conds\n",
    "    tstims=None if len(tstims)==0 else tstims\n",
    "\n",
    "    a.load_append_save(fpath,conds=conds, t_stims=tstims)\n",
    "    a.compute()\n",
    "\n",
    "    #plot the individual traces for all the mice\n",
    "    #use these plots to determine which mice you would like to remove\n",
    "    for i,v in enumerate(a.all_490.columns):\n",
    "        py.figure()\n",
    "        py.plot(a.all_490[v])\n",
    "        py.plot(a.all_405[v])\n",
    "        py.title(v)\n",
    "    "
   ]
  },
  {
   "cell_type": "code",
   "execution_count": null,
   "metadata": {},
   "outputs": [],
   "source": [
    "#specify all (mice,conditions) you would like to exclude from the analysis in a list below\n",
    "#example:\n",
    "#mice = [ ('mouse1','glucose'), ('mouse2','fructose')  ]\n",
    "#if you would like to remove a mouse from both conditions set the condition for the given entry to None\n",
    "#example:\n",
    "#mice = [('mouse1',None), ('mouse2','fructose)]\n",
    "\n",
    "mice = [('ala290',None),('adm382','ip_cap')]\n",
    "\n",
    "ans=input('are you happy with these settings? [y/n] ')\n",
    "if ans=='y':\n",
    "    for i in mice: \n",
    "        a.remove_mouse(mouse=i[0],cond=i[1],recompute=False)\n",
    "    a.compute()\n",
    "    a.plot_both()\n",
    "    print(a.mice_by_cond)"
   ]
  },
  {
   "cell_type": "code",
   "execution_count": null,
   "metadata": {},
   "outputs": [],
   "source": [
    "#specify all (mice,conditions) you have excluded that you would like to retrieve\n",
    "#example:\n",
    "#mice = [ ('mouse1','glucose'), ('mouse2','fructose')  ]\n",
    "#if you would like to remove a mouse from both conditions set the condition for the given entry to None\n",
    "#example:\n",
    "#mice = [('mouse1',None), ('mouse2','fructose)]\n",
    "\n",
    "mice = []\n",
    "\n",
    "ans=input('are you happy with these settings? [y/n] ')\n",
    "if ans=='y':\n",
    "    for i in mice: \n",
    "        a.retrieve_mouse(mouse=i[0],cond=i[1],recompute=False)\n",
    "    a.compute()\n",
    "    a.plot_both()\n",
    "    print(a.mice_by_cond)"
   ]
  },
  {
   "cell_type": "code",
   "execution_count": null,
   "metadata": {},
   "outputs": [],
   "source": [
    "#save the analysis\n",
    "a.save()"
   ]
  }
 ],
 "metadata": {
  "interpreter": {
   "hash": "7e1998ff7f8aa20ada591c520b972326324e5ea05489af9e422744c7c09f6dad"
  },
  "kernelspec": {
   "display_name": "Python 3.10.0 64-bit",
   "language": "python",
   "name": "python3"
  },
  "language_info": {
   "codemirror_mode": {
    "name": "ipython",
    "version": 3
   },
   "file_extension": ".py",
   "mimetype": "text/x-python",
   "name": "python",
   "nbconvert_exporter": "python",
   "pygments_lexer": "ipython3",
   "version": "3.8.8"
  },
  "orig_nbformat": 4
 },
 "nbformat": 4,
 "nbformat_minor": 2
}
